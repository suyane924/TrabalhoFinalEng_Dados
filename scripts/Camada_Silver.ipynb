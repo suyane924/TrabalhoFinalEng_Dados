{
 "cells": [
  {
   "cell_type": "code",
   "execution_count": 0,
   "metadata": {
    "application/vnd.databricks.v1+cell": {
     "cellMetadata": {},
     "inputWidgets": {},
     "nuid": "d8b3de7f-9487-417a-8263-55c65c6047fb",
     "showTitle": false,
     "tableResultSettingsMap": {},
     "title": ""
    }
   },
   "outputs": [],
   "source": [
    "from pyspark.sql.functions import col\n",
    "\n",
    "# Caminho para a camada Silver\n",
    "silver_path = \"/dbfs/FileStore/tables/data_lake/silver/\"\n",
    "\n",
    "# Lista de tabelas da camada Bronze\n",
    "tabelas = [\"produtos\", \"pedidos\", \"pagamentos\", \"clientes\", \"categorias\", \"entregas\"]\n",
    "\n",
    "# Loop para transformar e salvar cada tabela na camada Silver\n",
    "for tabela in tabelas:\n",
    "    # Caminho de leitura na camada Bronze\n",
    "    bronze_path = f\"/dbfs/FileStore/tables/data_lake/bronze/{tabela}/\"\n",
    "    \n",
    "    # Caminho de gravação na camada Silver\n",
    "    silver_table_path = f\"{silver_path}{tabela}/\"\n",
    "    \n",
    "    # Ler os dados da camada Bronze\n",
    "    df_bronze = spark.read.format(\"delta\").load(bronze_path)\n",
    "    \n",
    "    # Realizar transformações nos dados\n",
    "    if tabela == \"produtos\":\n",
    "        # Remover duplicatas, filtrar produtos com preço positivo e estoque não negativo\n",
    "        df_silver = df_bronze.dropDuplicates() \\\n",
    "            .filter(df_bronze['preco'].isNotNull()) \\\n",
    "            .filter(df_bronze['preco'] > 0) \\\n",
    "            .filter(df_bronze['estoque'] >= 0)  # Filtra produtos com estoque não negativo\n",
    "    \n",
    "    elif tabela == \"pedidos\":\n",
    "        # Remover duplicatas e garantir que a coluna 'valor_total' seja válida e positiva\n",
    "        df_silver = df_bronze.dropDuplicates() \\\n",
    "            .filter(df_bronze['valor_total'].isNotNull()) \\\n",
    "            .filter(df_bronze['valor_total'] > 0) \\\n",
    "            .filter(df_bronze['data_pedido'] >= '2023-01-01')  # Filtra pedidos realizados a partir de 2023\n",
    "    \n",
    "    elif tabela == \"pagamentos\":\n",
    "        # Remover duplicatas, garantir que o 'valor_pago' seja positivo e 'metodo_pagamento' não nulo\n",
    "        df_silver = df_bronze.dropDuplicates() \\\n",
    "            .filter(df_bronze['valor_pago'].isNotNull()) \\\n",
    "            .filter(df_bronze['valor_pago'] > 0) \\\n",
    "            .filter(df_bronze['metodo_pagamento'] != '')  # Filtra pagamentos com método de pagamento válido\n",
    "    \n",
    "    elif tabela == \"clientes\":\n",
    "        # Remover duplicatas, garantir que o 'email' e 'data_criacao' sejam válidos\n",
    "        df_silver = df_bronze.dropDuplicates() \\\n",
    "            .filter(df_bronze['email'].isNotNull()) \\\n",
    "            .filter(df_bronze['email'] != '') \\\n",
    "            .filter(df_bronze['data_criacao'].isNotNull()) \\\n",
    "            .filter(df_bronze['status'] == 'ativo')  # Filtra clientes ativos\n",
    "    \n",
    "    elif tabela == \"categorias\":\n",
    "        # Remover duplicatas e garantir que a coluna 'nome' seja não nula\n",
    "        df_silver = df_bronze.dropDuplicates() \\\n",
    "            .filter(df_bronze['nome'].isNotNull()) \\\n",
    "            .filter(df_bronze['nome'] != '')  # Filtra categorias com nome válido\n",
    "    \n",
    "    elif tabela == \"entregas\":\n",
    "        # Remover duplicatas, garantir que 'status_entrega' seja válido\n",
    "        df_silver = df_bronze.dropDuplicates() \\\n",
    "            .filter(df_bronze['status_entrega'].isNotNull()) \\\n",
    "            .filter(df_bronze['status_entrega'] != '')  # Filtra entregas com status válido\n",
    "    \n",
    "    # Exemplo de transformação de tipo de dado\n",
    "    # Garantir que a coluna 'data_pedido' seja do tipo 'timestamp' em 'pedidos'\n",
    "    if tabela == \"pedidos\":\n",
    "        df_silver = df_silver.withColumn(\"data_pedido\", df_silver[\"data_pedido\"].cast(\"timestamp\"))\n",
    "    \n",
    "    # Gravar os dados transformados na camada Silver no formato Delta\n",
    "    df_silver.write.format(\"delta\").mode(\"overwrite\").save(silver_table_path)\n",
    "    \n",
    "    print(f\"Dados da tabela '{tabela}' transformados e salvos na camada Silver em {silver_table_path}\")\n",
    "\n"
   ]
  }
 ],
 "metadata": {
  "application/vnd.databricks.v1+notebook": {
   "dashboards": [],
   "environmentMetadata": {
    "base_environment": "",
    "client": "1"
   },
   "language": "python",
   "notebookMetadata": {
    "pythonIndentUnit": 4
   },
   "notebookName": "Camada_Silver",
   "widgets": {}
  },
  "language_info": {
   "name": "python"
  }
 },
 "nbformat": 4,
 "nbformat_minor": 0
}
