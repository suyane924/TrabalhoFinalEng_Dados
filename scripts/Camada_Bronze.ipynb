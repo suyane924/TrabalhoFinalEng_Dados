{
 "cells": [
  {
   "cell_type": "code",
   "execution_count": 0,
   "metadata": {
    "application/vnd.databricks.v1+cell": {
     "cellMetadata": {},
     "inputWidgets": {},
     "nuid": "c0590378-6673-43aa-8131-f462e3c3e001",
     "showTitle": false,
     "tableResultSettingsMap": {},
     "title": ""
    }
   },
   "outputs": [],
   "source": [
    "# Caminho para a camada Bronze\n",
    "bronze_path = \"/dbfs/FileStore/tables/data_lake/bronze/\"\n",
    "\n",
    "# Listar tabelas\n",
    "tabelas = [\"produtos\", \"pedidos\", \"pagamentos\", \"entregas\", \"clientes\", \"categorias\"]\n",
    "\n",
    "# Loop para mover cada tabela da Landing Zone para a camada Bronze\n",
    "for tabela in tabelas:\n",
    "    # Caminho de leitura na Landing Zone\n",
    "    landing_path = f\"/dbfs/FileStore/tables/landing_zone/{tabela}/\"\n",
    "    \n",
    "    # Caminho de gravação na camada Bronze\n",
    "    bronze_table_path = f\"{bronze_path}{tabela}/\"\n",
    "    \n",
    "    # Ler os dados da Landing Zone\n",
    "    df = spark.read.format(\"csv\").option(\"header\", \"true\").load(landing_path)\n",
    "    \n",
    "    # Gravar os dados na camada Bronze no formato Delta\n",
    "    df.write.format(\"delta\").mode(\"overwrite\").save(bronze_table_path)\n",
    "    \n",
    "    print(f\"Dados da tabela '{tabela}' movidos para a camada Bronze e salvos em {bronze_table_path}\")\n"
   ]
  }
 ],
 "metadata": {
  "application/vnd.databricks.v1+notebook": {
   "dashboards": [],
   "environmentMetadata": {
    "base_environment": "",
    "client": "1"
   },
   "language": "python",
   "notebookMetadata": {
    "pythonIndentUnit": 4
   },
   "notebookName": "Camada_Bronze",
   "widgets": {}
  },
  "language_info": {
   "name": "python"
  }
 },
 "nbformat": 4,
 "nbformat_minor": 0
}
