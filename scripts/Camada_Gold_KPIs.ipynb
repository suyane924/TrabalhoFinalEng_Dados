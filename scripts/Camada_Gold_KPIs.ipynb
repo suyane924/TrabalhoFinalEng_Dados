{
 "cells": [
  {
   "cell_type": "code",
   "execution_count": 0,
   "metadata": {
    "application/vnd.databricks.v1+cell": {
     "cellMetadata": {},
     "inputWidgets": {},
     "nuid": "be476ae0-7c3e-4357-8a6d-3dd1baefa828",
     "showTitle": false,
     "tableResultSettingsMap": {},
     "title": ""
    }
   },
   "outputs": [],
   "source": [
    "# KPI 1: Total de Vendas por Cliente\n",
    "df_total_vendas_cliente = df_fato_pedidos.join(df_fato_pagamentos, df_fato_pedidos.id_pedido == df_fato_pagamentos.id_pedido) \\\n",
    "    .groupBy(\"id_cliente\", \"nome\") \\\n",
    "    .agg({\"valor_pago\": \"sum\"}) \\\n",
    "    .withColumnRenamed(\"sum(valor_pago)\", \"total_vendas_cliente\")\n",
    "\n",
    "df_total_vendas_cliente.show()\n",
    "\n",
    "# KPI 2: Número de Pedidos por Cliente\n",
    "df_num_pedidos_cliente = df_fato_pedidos.groupBy(\"id_cliente\", \"nome\") \\\n",
    "    .agg({\"id_pedido\": \"count\"}) \\\n",
    "    .withColumnRenamed(\"count(id_pedido)\", \"num_pedidos_cliente\")\n",
    "\n",
    "df_num_pedidos_cliente.show()\n",
    "\n",
    "# KPI 3: Total de Vendas por Produto\n",
    "df_total_vendas_produto = df_fato_pedidos.join(df_fato_pagamentos, df_fato_pedidos.id_pedido == df_fato_pagamentos.id_pedido) \\\n",
    "    .join(df_fato_produtos, df_fato_pedidos.id_produto == df_fato_produtos.id_produto) \\\n",
    "    .groupBy(\"id_produto\", \"nome_produto\") \\\n",
    "    .agg({\"valor_pago\": \"sum\"}) \\\n",
    "    .withColumnRenamed(\"sum(valor_pago)\", \"total_vendas_produto\")\n",
    "\n",
    "df_total_vendas_produto.show()\n",
    "\n",
    "# KPI 4: Taxa de Entrega no Prazo\n",
    "df_entregas_no_prazo = df_fato_entregas.filter(df_fato_entregas.status_entrega == \"Entregue no Prazo\") \\\n",
    "    .groupBy(\"id_entrega\") \\\n",
    "    .count()\n",
    "\n",
    "df_total_entregas = df_fato_entregas.groupBy(\"id_entrega\").count()\n",
    "\n",
    "df_taxa_entrega_prazo = df_entregas_no_prazo.join(df_total_entregas, df_entregas_no_prazo.id_entrega == df_total_entregas.id_entrega) \\\n",
    "    .withColumn(\"taxa_entrega_prazo\", (df_entregas_no_prazo[\"count\"] / df_total_entregas[\"count\"]) * 100)\n",
    "\n",
    "df_taxa_entrega_prazo.select(\"taxa_entrega_prazo\").show()\n",
    "\n",
    "# Métrica 1: Ticket Médio por Pedido\n",
    "df_ticket_medio = df_fato_pagamentos.groupBy(\"id_pedido\") \\\n",
    "    .agg({\"valor_pago\": \"sum\"}) \\\n",
    "    .withColumnRenamed(\"sum(valor_pago)\", \"valor_total_pedido\")\n",
    "\n",
    "df_ticket_medio = df_ticket_medio.groupBy().agg({\"valor_total_pedido\": \"avg\"}) \\\n",
    "    .withColumnRenamed(\"avg(valor_total_pedido)\", \"ticket_medio\")\n",
    "\n",
    "df_ticket_medio.show()\n",
    "\n",
    "# Métrica 2: Valor Total de Vendas\n",
    "df_valor_total_vendas = df_fato_pagamentos.groupBy() \\\n",
    "    .agg({\"valor_pago\": \"sum\"}) \\\n",
    "    .withColumnRenamed(\"sum(valor_pago)\", \"valor_total_vendas\")\n",
    "\n",
    "df_valor_total_vendas.show()\n"
   ]
  }
 ],
 "metadata": {
  "application/vnd.databricks.v1+notebook": {
   "dashboards": [],
   "environmentMetadata": {
    "base_environment": "",
    "client": "1"
   },
   "language": "python",
   "notebookMetadata": {
    "pythonIndentUnit": 4
   },
   "notebookName": "Camada_Gold_KPIs",
   "widgets": {}
  },
  "language_info": {
   "name": "python"
  }
 },
 "nbformat": 4,
 "nbformat_minor": 0
}
