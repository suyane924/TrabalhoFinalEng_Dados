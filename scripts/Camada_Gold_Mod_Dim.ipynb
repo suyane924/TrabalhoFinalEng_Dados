{
 "cells": [
  {
   "cell_type": "code",
   "execution_count": 0,
   "metadata": {
    "application/vnd.databricks.v1+cell": {
     "cellMetadata": {},
     "inputWidgets": {},
     "nuid": "0e2ea505-2693-4e0e-8ddc-77e52cd0d76d",
     "showTitle": false,
     "tableResultSettingsMap": {},
     "title": ""
    }
   },
   "outputs": [],
   "source": [
    "# Caminho para a camada Gold\n",
    "camada_gold_base = \"/dbfs/FileStore/tables/data_lake/gold/\"\n",
    "\n",
    "# Ler as tabelas de dados transformados na camada Silver\n",
    "df_clientes = spark.read.format(\"delta\").load(\"/dbfs/FileStore/tables/data_lake/silver/clientes/\")\n",
    "df_produtos = spark.read.format(\"delta\").load(\"/dbfs/FileStore/tables/data_lake/silver/produtos/\")\n",
    "df_pedidos = spark.read.format(\"delta\").load(\"/dbfs/FileStore/tables/data_lake/silver/pedidos/\")\n",
    "df_pagamentos = spark.read.format(\"delta\").load(\"/dbfs/FileStore/tables/data_lake/silver/pagamentos/\")\n",
    "df_entregas = spark.read.format(\"delta\").load(\"/dbfs/FileStore/tables/data_lake/silver/entregas/\")\n",
    "df_categorias = spark.read.format(\"delta\").load(\"/dbfs/FileStore/tables/data_lake/silver/categorias/\")\n",
    "\n",
    "# =====================================\n",
    "# Fatos\n",
    "# =====================================\n",
    "\n",
    "# Fato de Pedidos: Agregar dados de pedidos com informações do cliente e valor total\n",
    "df_fato_pedidos = df_pedidos.join(df_clientes, df_pedidos.id_cliente == df_clientes.id_cliente) \\\n",
    "    .select(\"id_pedido\", \"id_cliente\", \"data_pedido\", \"valor_total\", \"nome\", \"email\")\n",
    "\n",
    "# Salvar a tabela de Fato de Pedidos na camada Gold\n",
    "df_fato_pedidos.write.format(\"delta\").mode(\"overwrite\").save(f\"{camada_gold_base}fatos/fato_pedidos\")\n",
    "\n",
    "# Fato de Pagamentos: Agregar dados de pagamentos com informações de pedidos\n",
    "df_fato_pagamentos = df_pagamentos.join(df_pedidos, df_pagamentos.id_pedido == df_pedidos.id_pedido) \\\n",
    "    .select(\"id_pagamento\", \"id_pedido\", \"valor_pago\", \"data_pagamento\", \"metodo_pagamento\")\n",
    "\n",
    "# Salvar a tabela de Fato de Pagamentos na camada Gold\n",
    "df_fato_pagamentos.write.format(\"delta\").mode(\"overwrite\").save(f\"{camada_gold_base}fatos/fato_pagamentos\")\n",
    "\n",
    "# Fato de Entregas: Agregar dados de entregas com informações de pedidos\n",
    "df_fato_entregas = df_entregas.join(df_pedidos, df_entregas.id_pedido == df_pedidos.id_pedido) \\\n",
    "    .select(\"id_entrega\", \"id_pedido\", \"data_entrega\", \"status_entrega\", \"endereco_entrega\")\n",
    "\n",
    "# Salvar a tabela de Fato de Entregas na camada Gold\n",
    "df_fato_entregas.write.format(\"delta\").mode(\"overwrite\").save(f\"{camada_gold_base}fatos/fato_entregas\")\n",
    "\n",
    "# =====================================\n",
    "# Dimensões\n",
    "# =====================================\n",
    "\n",
    "# Dimensão de Produtos: Detalhamento de produtos com informações de categoria\n",
    "df_dim_produtos = df_produtos.join(df_categorias, df_produtos.id_categoria == df_categorias.id_categoria) \\\n",
    "    .select(\"id_produto\", \"nome\", \"preco\", \"estoque\", \"id_categoria\", \"nome_categoria\", \"descricao\")\n",
    "\n",
    "# Salvar a tabela de Dimensão de Produtos na camada Gold\n",
    "df_dim_produtos.write.format(\"delta\").mode(\"overwrite\").save(f\"{camada_gold_base}dimensoes/dim_produtos\")\n",
    "\n",
    "# Dimensão de Clientes: Detalhamento de clientes\n",
    "df_dim_clientes = df_clientes.select(\"id_cliente\", \"nome\", \"email\", \"data_criacao\")\n",
    "\n",
    "# Salvar a tabela de Dimensão de Clientes na camada Gold\n",
    "df_dim_clientes.write.format(\"delta\").mode(\"overwrite\").save(f\"{camada_gold_base}dimensoes/dim_clientes\")\n",
    "\n",
    "# Dimensão de Categorias: Detalhamento de categorias\n",
    "df_dim_categorias = df_categorias.select(\"id_categoria\", \"nome\", \"descricao\")\n",
    "\n",
    "# Salvar a tabela de Dimensão de Categorias na camada Gold\n",
    "df_dim_categorias.write.format(\"delta\").mode(\"overwrite\").save(f\"{camada_gold_base}dimensoes/dim_categorias\")\n",
    "\n",
    "print(\"Transformações para Fatos e Dimensões na camada Gold concluídas.\")\n"
   ]
  }
 ],
 "metadata": {
  "application/vnd.databricks.v1+notebook": {
   "dashboards": [],
   "environmentMetadata": {
    "base_environment": "",
    "client": "1"
   },
   "language": "python",
   "notebookMetadata": {
    "pythonIndentUnit": 4
   },
   "notebookName": "Camada_Gold_Mod_Dim",
   "widgets": {}
  },
  "language_info": {
   "name": "python"
  }
 },
 "nbformat": 4,
 "nbformat_minor": 0
}
