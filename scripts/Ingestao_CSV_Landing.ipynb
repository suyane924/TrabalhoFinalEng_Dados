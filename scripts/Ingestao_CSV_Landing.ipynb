{
 "cells": [
  {
   "cell_type": "code",
   "execution_count": 0,
   "metadata": {
    "application/vnd.databricks.v1+cell": {
     "cellMetadata": {},
     "inputWidgets": {},
     "nuid": "6cd53e53-9d17-4fe8-afb1-b44ded8a507e",
     "showTitle": false,
     "tableResultSettingsMap": {},
     "title": ""
    }
   },
   "outputs": [],
   "source": [
    "# Lista de arquivos CSV \n",
    "arquivos_csv = [\n",
    "    \"/dbfs/FileStore/tables/produtos.csv\",\n",
    "    \"/dbfs/FileStore/tables/pedidos.csv\",\n",
    "    \"/dbfs/FileStore/tables/pagamentos.csv\",\n",
    "    \"/dbfs/FileStore/tables/entregas.csv\",\n",
    "    \"/dbfs/FileStore/tables/clientes.csv\",\n",
    "    \"/dbfs/FileStore/tables/categorias.csv\"\n",
    "]\n",
    "\n",
    "# Caminho para onde os arquivos Delta serão salvos\n",
    "caminho_delta_base = \"/dbfs/FileStore/tables/delta_lake_data/\"\n",
    "\n",
    "# Caminho para a Landing Zone\n",
    "caminho_landing_base = \"/dbfs/FileStore/tables/landing_zone/\"\n",
    "\n",
    "# Loop para carregar cada arquivo CSV e gravá-lo em formato Delta e na Landing Zone\n",
    "for i, caminho_csv in enumerate(arquivos_csv):\n",
    "    # Carregar o CSV\n",
    "    df = spark.read.option(\"header\", \"true\").csv(caminho_csv)\n",
    "    \n",
    "    # Definir o caminho para salvar o arquivo na Landing Zone\n",
    "    caminho_landing = f\"{caminho_landing_base}{arquivos_csv[i].split('/')[-1].split('.')[0]}/\"\n",
    "    \n",
    "    # Gravar o DataFrame na Landing Zone\n",
    "    df.write.format(\"csv\").option(\"header\", \"true\").mode(\"overwrite\").save(caminho_landing)\n",
    "    \n",
    "    # Define o caminho para salvar o arquivo Delta \n",
    "    caminho_delta = f\"{caminho_delta_base}{arquivos_csv[i].split('/')[-1].split('.')[0]}_delta\"\n",
    "    \n",
    "    # Grava o DataFrame no formato Delta\n",
    "    df.write.format(\"delta\").mode(\"overwrite\").save(caminho_delta)\n",
    "    \n",
    "    # Exibe as primeiras linhas para verificar os dados\n",
    "    print(f\"Dados do arquivo {caminho_csv} gravados na Landing Zone em {caminho_landing}\")\n",
    "    print(f\"Dados do arquivo {caminho_csv} gravados como Delta em {caminho_delta}:\")\n",
    "    df.show()\n",
    "\n",
    "    # Verificar os dados da Landing Zone\n",
    "df_landing_produtos = spark.read.format(\"csv\").option(\"header\", \"true\").load(\"/dbfs/FileStore/tables/landing_zone/produtos/\")\n",
    "df_landing_produtos.show()\n",
    "\n",
    "\n",
    "\n"
   ]
  }
 ],
 "metadata": {
  "application/vnd.databricks.v1+notebook": {
   "dashboards": [],
   "environmentMetadata": {
    "base_environment": "",
    "client": "1"
   },
   "language": "python",
   "notebookMetadata": {
    "pythonIndentUnit": 4
   },
   "notebookName": "Ingestao_CSV_Landing",
   "widgets": {}
  },
  "language_info": {
   "name": "python"
  }
 },
 "nbformat": 4,
 "nbformat_minor": 0
}
